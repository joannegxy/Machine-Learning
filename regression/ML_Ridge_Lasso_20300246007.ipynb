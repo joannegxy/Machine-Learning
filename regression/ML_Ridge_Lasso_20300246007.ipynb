{
 "cells": [
  {
   "cell_type": "markdown",
   "id": "ecfda826-b85b-46e7-aa43-e1d1fcb33a78",
   "metadata": {},
   "source": [
    "把数据导入（由于作业用到的Boston Housing Price 数据有触及敏感课题的争议，因此sklearn库弃用了此数据库，导致使用load_boston函数时候会弹出很长的警告。因此可以过滤warnings来提高可读性。）"
   ]
  },
  {
   "cell_type": "code",
   "execution_count": 6,
   "id": "d4d49efe-30b3-4d12-b4a9-2ae09786c229",
   "metadata": {},
   "outputs": [],
   "source": [
    "import warnings\n",
    "warnings.filterwarnings('ignore')\n",
    "from sklearn.datasets import load_boston\n",
    "\n",
    "price_dataset = load_boston()"
   ]
  },
  {
   "cell_type": "markdown",
   "id": "7f930323-27c5-4ba7-9e55-5109c4ae9fb8",
   "metadata": {},
   "source": [
    "下方为有关波士顿房价数据的相关叙述。我们的预测目标（target）为MEDV，即房价的中位数（以1000$为单位）。"
   ]
  },
  {
   "cell_type": "code",
   "execution_count": 7,
   "id": "893f32a0-cf71-4ea7-9631-f4a4dda04f8f",
   "metadata": {},
   "outputs": [
    {
     "name": "stdout",
     "output_type": "stream",
     "text": [
      "dict_keys(['data', 'target', 'feature_names', 'DESCR', 'filename', 'data_module'])\n",
      ".. _boston_dataset:\n",
      "\n",
      "Boston house prices dataset\n",
      "---------------------------\n",
      "\n",
      "**Data Set Characteristics:**  \n",
      "\n",
      "    :Number of Instances: 506 \n",
      "\n",
      "    :Number of Attributes: 13 numeric/categorical predictive. Median Value (attribute 14) is usually the target.\n",
      "\n",
      "    :Attribute Information (in order):\n",
      "        - CRIM     per capita crime rate by town\n",
      "        - ZN       proportion of residential land zoned for lots over 25,000 sq.ft.\n",
      "        - INDUS    proportion of non-retail business acres per town\n",
      "        - CHAS     Charles River dummy variable (= 1 if tract bounds river; 0 otherwise)\n",
      "        - NOX      nitric oxides concentration (parts per 10 million)\n",
      "        - RM       average number of rooms per dwelling\n",
      "        - AGE      proportion of owner-occupied units built prior to 1940\n",
      "        - DIS      weighted distances to five Boston employment centres\n",
      "        - RAD      index of accessibility to radial highways\n",
      "        - TAX      full-value property-tax rate per $10,000\n",
      "        - PTRATIO  pupil-teacher ratio by town\n",
      "        - B        1000(Bk - 0.63)^2 where Bk is the proportion of black people by town\n",
      "        - LSTAT    % lower status of the population\n",
      "        - MEDV     Median value of owner-occupied homes in $1000's\n",
      "\n",
      "    :Missing Attribute Values: None\n",
      "\n",
      "    :Creator: Harrison, D. and Rubinfeld, D.L.\n",
      "\n",
      "This is a copy of UCI ML housing dataset.\n",
      "https://archive.ics.uci.edu/ml/machine-learning-databases/housing/\n",
      "\n",
      "\n",
      "This dataset was taken from the StatLib library which is maintained at Carnegie Mellon University.\n",
      "\n",
      "The Boston house-price data of Harrison, D. and Rubinfeld, D.L. 'Hedonic\n",
      "prices and the demand for clean air', J. Environ. Economics & Management,\n",
      "vol.5, 81-102, 1978.   Used in Belsley, Kuh & Welsch, 'Regression diagnostics\n",
      "...', Wiley, 1980.   N.B. Various transformations are used in the table on\n",
      "pages 244-261 of the latter.\n",
      "\n",
      "The Boston house-price data has been used in many machine learning papers that address regression\n",
      "problems.   \n",
      "     \n",
      ".. topic:: References\n",
      "\n",
      "   - Belsley, Kuh & Welsch, 'Regression diagnostics: Identifying Influential Data and Sources of Collinearity', Wiley, 1980. 244-261.\n",
      "   - Quinlan,R. (1993). Combining Instance-Based and Model-Based Learning. In Proceedings on the Tenth International Conference of Machine Learning, 236-243, University of Massachusetts, Amherst. Morgan Kaufmann.\n",
      "\n"
     ]
    }
   ],
   "source": [
    "print(price_dataset.keys())\n",
    "print(price_dataset.DESCR)"
   ]
  },
  {
   "cell_type": "markdown",
   "id": "35be14a2-74e4-431b-910d-7c48e5323c29",
   "metadata": {},
   "source": [
    "下方使用了Pandas生成表格。boston.head()用于导出首5条数据的函数。"
   ]
  },
  {
   "cell_type": "code",
   "execution_count": 8,
   "id": "dcba257a-7c27-46c6-9cb8-dd000af3e140",
   "metadata": {},
   "outputs": [
    {
     "data": {
      "text/html": [
       "<div>\n",
       "<style scoped>\n",
       "    .dataframe tbody tr th:only-of-type {\n",
       "        vertical-align: middle;\n",
       "    }\n",
       "\n",
       "    .dataframe tbody tr th {\n",
       "        vertical-align: top;\n",
       "    }\n",
       "\n",
       "    .dataframe thead th {\n",
       "        text-align: right;\n",
       "    }\n",
       "</style>\n",
       "<table border=\"1\" class=\"dataframe\">\n",
       "  <thead>\n",
       "    <tr style=\"text-align: right;\">\n",
       "      <th></th>\n",
       "      <th>CRIM</th>\n",
       "      <th>ZN</th>\n",
       "      <th>INDUS</th>\n",
       "      <th>CHAS</th>\n",
       "      <th>NOX</th>\n",
       "      <th>RM</th>\n",
       "      <th>AGE</th>\n",
       "      <th>DIS</th>\n",
       "      <th>RAD</th>\n",
       "      <th>TAX</th>\n",
       "      <th>PTRATIO</th>\n",
       "      <th>B</th>\n",
       "      <th>LSTAT</th>\n",
       "    </tr>\n",
       "  </thead>\n",
       "  <tbody>\n",
       "    <tr>\n",
       "      <th>0</th>\n",
       "      <td>0.00632</td>\n",
       "      <td>18.0</td>\n",
       "      <td>2.31</td>\n",
       "      <td>0.0</td>\n",
       "      <td>0.538</td>\n",
       "      <td>6.575</td>\n",
       "      <td>65.2</td>\n",
       "      <td>4.0900</td>\n",
       "      <td>1.0</td>\n",
       "      <td>296.0</td>\n",
       "      <td>15.3</td>\n",
       "      <td>396.90</td>\n",
       "      <td>4.98</td>\n",
       "    </tr>\n",
       "    <tr>\n",
       "      <th>1</th>\n",
       "      <td>0.02731</td>\n",
       "      <td>0.0</td>\n",
       "      <td>7.07</td>\n",
       "      <td>0.0</td>\n",
       "      <td>0.469</td>\n",
       "      <td>6.421</td>\n",
       "      <td>78.9</td>\n",
       "      <td>4.9671</td>\n",
       "      <td>2.0</td>\n",
       "      <td>242.0</td>\n",
       "      <td>17.8</td>\n",
       "      <td>396.90</td>\n",
       "      <td>9.14</td>\n",
       "    </tr>\n",
       "    <tr>\n",
       "      <th>2</th>\n",
       "      <td>0.02729</td>\n",
       "      <td>0.0</td>\n",
       "      <td>7.07</td>\n",
       "      <td>0.0</td>\n",
       "      <td>0.469</td>\n",
       "      <td>7.185</td>\n",
       "      <td>61.1</td>\n",
       "      <td>4.9671</td>\n",
       "      <td>2.0</td>\n",
       "      <td>242.0</td>\n",
       "      <td>17.8</td>\n",
       "      <td>392.83</td>\n",
       "      <td>4.03</td>\n",
       "    </tr>\n",
       "    <tr>\n",
       "      <th>3</th>\n",
       "      <td>0.03237</td>\n",
       "      <td>0.0</td>\n",
       "      <td>2.18</td>\n",
       "      <td>0.0</td>\n",
       "      <td>0.458</td>\n",
       "      <td>6.998</td>\n",
       "      <td>45.8</td>\n",
       "      <td>6.0622</td>\n",
       "      <td>3.0</td>\n",
       "      <td>222.0</td>\n",
       "      <td>18.7</td>\n",
       "      <td>394.63</td>\n",
       "      <td>2.94</td>\n",
       "    </tr>\n",
       "    <tr>\n",
       "      <th>4</th>\n",
       "      <td>0.06905</td>\n",
       "      <td>0.0</td>\n",
       "      <td>2.18</td>\n",
       "      <td>0.0</td>\n",
       "      <td>0.458</td>\n",
       "      <td>7.147</td>\n",
       "      <td>54.2</td>\n",
       "      <td>6.0622</td>\n",
       "      <td>3.0</td>\n",
       "      <td>222.0</td>\n",
       "      <td>18.7</td>\n",
       "      <td>396.90</td>\n",
       "      <td>5.33</td>\n",
       "    </tr>\n",
       "  </tbody>\n",
       "</table>\n",
       "</div>"
      ],
      "text/plain": [
       "      CRIM    ZN  INDUS  CHAS    NOX     RM   AGE     DIS  RAD    TAX  \\\n",
       "0  0.00632  18.0   2.31   0.0  0.538  6.575  65.2  4.0900  1.0  296.0   \n",
       "1  0.02731   0.0   7.07   0.0  0.469  6.421  78.9  4.9671  2.0  242.0   \n",
       "2  0.02729   0.0   7.07   0.0  0.469  7.185  61.1  4.9671  2.0  242.0   \n",
       "3  0.03237   0.0   2.18   0.0  0.458  6.998  45.8  6.0622  3.0  222.0   \n",
       "4  0.06905   0.0   2.18   0.0  0.458  7.147  54.2  6.0622  3.0  222.0   \n",
       "\n",
       "   PTRATIO       B  LSTAT  \n",
       "0     15.3  396.90   4.98  \n",
       "1     17.8  396.90   9.14  \n",
       "2     17.8  392.83   4.03  \n",
       "3     18.7  394.63   2.94  \n",
       "4     18.7  396.90   5.33  "
      ]
     },
     "execution_count": 8,
     "metadata": {},
     "output_type": "execute_result"
    }
   ],
   "source": [
    "import pandas as pd  \n",
    "\n",
    "boston = pd.DataFrame(price_dataset.data, columns=price_dataset.feature_names)\n",
    "boston.head()"
   ]
  },
  {
   "cell_type": "markdown",
   "id": "e6cfb0fe-88eb-4c7c-9704-8c6a37a9dcef",
   "metadata": {},
   "source": [
    "从上可见我们的表格少了目标数据'MEDV',因此将'MEDV'导入表格中："
   ]
  },
  {
   "cell_type": "code",
   "execution_count": 9,
   "id": "1ace9fdf-a227-4c7e-9b69-df7526389ae9",
   "metadata": {},
   "outputs": [],
   "source": [
    "boston['MEDV'] = price_dataset.target"
   ]
  },
  {
   "cell_type": "markdown",
   "id": "f206e067-653d-48f1-a1ff-113b5e63c883",
   "metadata": {},
   "source": [
    "再度导出表格的首5条数据，可见'MEDV'已被包含在内："
   ]
  },
  {
   "cell_type": "code",
   "execution_count": 10,
   "id": "195993c1-3ace-4189-adce-a5f8b9665583",
   "metadata": {
    "scrolled": true
   },
   "outputs": [
    {
     "data": {
      "text/html": [
       "<div>\n",
       "<style scoped>\n",
       "    .dataframe tbody tr th:only-of-type {\n",
       "        vertical-align: middle;\n",
       "    }\n",
       "\n",
       "    .dataframe tbody tr th {\n",
       "        vertical-align: top;\n",
       "    }\n",
       "\n",
       "    .dataframe thead th {\n",
       "        text-align: right;\n",
       "    }\n",
       "</style>\n",
       "<table border=\"1\" class=\"dataframe\">\n",
       "  <thead>\n",
       "    <tr style=\"text-align: right;\">\n",
       "      <th></th>\n",
       "      <th>CRIM</th>\n",
       "      <th>ZN</th>\n",
       "      <th>INDUS</th>\n",
       "      <th>CHAS</th>\n",
       "      <th>NOX</th>\n",
       "      <th>RM</th>\n",
       "      <th>AGE</th>\n",
       "      <th>DIS</th>\n",
       "      <th>RAD</th>\n",
       "      <th>TAX</th>\n",
       "      <th>PTRATIO</th>\n",
       "      <th>B</th>\n",
       "      <th>LSTAT</th>\n",
       "      <th>MEDV</th>\n",
       "    </tr>\n",
       "  </thead>\n",
       "  <tbody>\n",
       "    <tr>\n",
       "      <th>0</th>\n",
       "      <td>0.00632</td>\n",
       "      <td>18.0</td>\n",
       "      <td>2.31</td>\n",
       "      <td>0.0</td>\n",
       "      <td>0.538</td>\n",
       "      <td>6.575</td>\n",
       "      <td>65.2</td>\n",
       "      <td>4.0900</td>\n",
       "      <td>1.0</td>\n",
       "      <td>296.0</td>\n",
       "      <td>15.3</td>\n",
       "      <td>396.90</td>\n",
       "      <td>4.98</td>\n",
       "      <td>24.0</td>\n",
       "    </tr>\n",
       "    <tr>\n",
       "      <th>1</th>\n",
       "      <td>0.02731</td>\n",
       "      <td>0.0</td>\n",
       "      <td>7.07</td>\n",
       "      <td>0.0</td>\n",
       "      <td>0.469</td>\n",
       "      <td>6.421</td>\n",
       "      <td>78.9</td>\n",
       "      <td>4.9671</td>\n",
       "      <td>2.0</td>\n",
       "      <td>242.0</td>\n",
       "      <td>17.8</td>\n",
       "      <td>396.90</td>\n",
       "      <td>9.14</td>\n",
       "      <td>21.6</td>\n",
       "    </tr>\n",
       "    <tr>\n",
       "      <th>2</th>\n",
       "      <td>0.02729</td>\n",
       "      <td>0.0</td>\n",
       "      <td>7.07</td>\n",
       "      <td>0.0</td>\n",
       "      <td>0.469</td>\n",
       "      <td>7.185</td>\n",
       "      <td>61.1</td>\n",
       "      <td>4.9671</td>\n",
       "      <td>2.0</td>\n",
       "      <td>242.0</td>\n",
       "      <td>17.8</td>\n",
       "      <td>392.83</td>\n",
       "      <td>4.03</td>\n",
       "      <td>34.7</td>\n",
       "    </tr>\n",
       "    <tr>\n",
       "      <th>3</th>\n",
       "      <td>0.03237</td>\n",
       "      <td>0.0</td>\n",
       "      <td>2.18</td>\n",
       "      <td>0.0</td>\n",
       "      <td>0.458</td>\n",
       "      <td>6.998</td>\n",
       "      <td>45.8</td>\n",
       "      <td>6.0622</td>\n",
       "      <td>3.0</td>\n",
       "      <td>222.0</td>\n",
       "      <td>18.7</td>\n",
       "      <td>394.63</td>\n",
       "      <td>2.94</td>\n",
       "      <td>33.4</td>\n",
       "    </tr>\n",
       "    <tr>\n",
       "      <th>4</th>\n",
       "      <td>0.06905</td>\n",
       "      <td>0.0</td>\n",
       "      <td>2.18</td>\n",
       "      <td>0.0</td>\n",
       "      <td>0.458</td>\n",
       "      <td>7.147</td>\n",
       "      <td>54.2</td>\n",
       "      <td>6.0622</td>\n",
       "      <td>3.0</td>\n",
       "      <td>222.0</td>\n",
       "      <td>18.7</td>\n",
       "      <td>396.90</td>\n",
       "      <td>5.33</td>\n",
       "      <td>36.2</td>\n",
       "    </tr>\n",
       "  </tbody>\n",
       "</table>\n",
       "</div>"
      ],
      "text/plain": [
       "      CRIM    ZN  INDUS  CHAS    NOX     RM   AGE     DIS  RAD    TAX  \\\n",
       "0  0.00632  18.0   2.31   0.0  0.538  6.575  65.2  4.0900  1.0  296.0   \n",
       "1  0.02731   0.0   7.07   0.0  0.469  6.421  78.9  4.9671  2.0  242.0   \n",
       "2  0.02729   0.0   7.07   0.0  0.469  7.185  61.1  4.9671  2.0  242.0   \n",
       "3  0.03237   0.0   2.18   0.0  0.458  6.998  45.8  6.0622  3.0  222.0   \n",
       "4  0.06905   0.0   2.18   0.0  0.458  7.147  54.2  6.0622  3.0  222.0   \n",
       "\n",
       "   PTRATIO       B  LSTAT  MEDV  \n",
       "0     15.3  396.90   4.98  24.0  \n",
       "1     17.8  396.90   9.14  21.6  \n",
       "2     17.8  392.83   4.03  34.7  \n",
       "3     18.7  394.63   2.94  33.4  \n",
       "4     18.7  396.90   5.33  36.2  "
      ]
     },
     "execution_count": 10,
     "metadata": {},
     "output_type": "execute_result"
    }
   ],
   "source": [
    "boston.head()"
   ]
  },
  {
   "cell_type": "markdown",
   "id": "cf5461df-e95d-4079-a9f6-232579194f2c",
   "metadata": {},
   "source": [
    "X：波士顿房价中除了目标参数（'MEDV')以外的其他参数，\n",
    "Y：目标参数（'MEDV'）\n",
    "\n",
    "将数据随机地分成训练集与测试集，训练集占原数据集的80%，而测试集则占20%。"
   ]
  },
  {
   "cell_type": "code",
   "execution_count": 11,
   "id": "d5b47a1e-b376-44f2-8f96-a689e989d469",
   "metadata": {},
   "outputs": [],
   "source": [
    "import numpy as np\n",
    "from sklearn.model_selection import train_test_split\n",
    "\n",
    "X = boston.drop('MEDV' , axis = 1)\n",
    "Y = boston['MEDV']\n",
    "\n",
    "X_train, X_test, Y_train, Y_test = train_test_split(X, Y, test_size = 0.2, random_state=5)"
   ]
  },
  {
   "cell_type": "markdown",
   "id": "365c055b-fb70-4b68-9f6d-2310ab8d0657",
   "metadata": {},
   "source": [
    "首先训练Ridge模型。"
   ]
  },
  {
   "cell_type": "markdown",
   "id": "8d9fb699-41b3-4d77-8e58-efcf6d96a81f",
   "metadata": {},
   "source": [
    "导入模型后定义函数ridge_regression()，以便取各种alpha值进行训练，来找到最优的alpha。此函数每次取alpha对训练集训练完毕后，将用ridge_model.score()计算R平方得分，并把结果记录在ridge_alpha_acc_results[]中."
   ]
  },
  {
   "cell_type": "markdown",
   "id": "012c3269-fe67-472a-95cf-1b279b3020c3",
   "metadata": {},
   "source": [
    "此处的ridge模型中设置了normalize=True，即把X中的所有参数都标准化处理。经过这样的预处理，最后的R2得分一般会比较高。"
   ]
  },
  {
   "cell_type": "code",
   "execution_count": 12,
   "id": "c4274a87-8f47-4ac0-8303-26856b46e08e",
   "metadata": {},
   "outputs": [],
   "source": [
    "from sklearn.linear_model import Ridge"
   ]
  },
  {
   "cell_type": "code",
   "execution_count": 13,
   "id": "ea1eb208-f733-441c-ba92-65001d66e656",
   "metadata": {},
   "outputs": [],
   "source": [
    "def ridge_regression(alpha, ridge_alpha_acc_results):\n",
    "    ridge_model = Ridge(alpha=alpha,normalize=True)\n",
    "    ridge_model.fit(X_train , Y_train)\n",
    "    \n",
    "    ridge_score = ridge_model.score(X_test , Y_test)\n",
    "    ridge_alpha_acc_results.append(ridge_score*100)"
   ]
  },
  {
   "cell_type": "markdown",
   "id": "86e32bf2-acbe-470a-ac99-15bce2aca6b2",
   "metadata": {},
   "source": [
    "生成一个记录着我们想取来训练的alpha值的list（下方使用了np.linspace()，括弧里的(1e-4,1,500)的意思是在[1e-4,1]之间生成500个等距的值），接着对list里面的所有alpha值进行训练。"
   ]
  },
  {
   "cell_type": "markdown",
   "id": "4da6b954-0d03-46e1-a3d5-ac82b7dca876",
   "metadata": {},
   "source": [
    "对所有alpha值训练完毕后，将每个alpha值和它们所对应的训练结果对应起来，接着导出最优alpha值以及其所对应的R2得分。"
   ]
  },
  {
   "cell_type": "code",
   "execution_count": 14,
   "id": "fae201fd-872c-4ba0-a3d0-064bd50d4bd9",
   "metadata": {},
   "outputs": [
    {
     "name": "stdout",
     "output_type": "stream",
     "text": [
      "Ridge optimal alpha: 0.16240841683366733 , accuracy: 74.99740529685197\n"
     ]
    }
   ],
   "source": [
    "ridge_alpha_list=np.linspace(1e-4,1,500)\n",
    "ridge_alpha_acc_results=[]\n",
    "for i in ridge_alpha_list:\n",
    "    ridge_regression(i, ridge_alpha_acc_results)\n",
    "ridge_results=dict(zip(ridge_alpha_list,ridge_alpha_acc_results))\n",
    "print(\"Ridge optimal alpha:\",max(ridge_results,key=ridge_results.get),\", accuracy:\",max(ridge_results.values()))"
   ]
  },
  {
   "cell_type": "markdown",
   "id": "f60310ca-62bf-495d-b3a6-a180f81a247d",
   "metadata": {},
   "source": [
    "从上可知使用Ridge模型进行房价预测训练时候，alpha取0.16240841683366733将得到最准确的房价预测结果。"
   ]
  },
  {
   "cell_type": "markdown",
   "id": "f1187dab-9db8-4373-8d85-d43c5991272a",
   "metadata": {},
   "source": [
    "此外，将每个alpha值与它们对应的R2得分进行作图，可得出以下曲线："
   ]
  },
  {
   "cell_type": "code",
   "execution_count": 23,
   "id": "bf714f2a-5669-43a2-9ccf-ee28dc1e0e08",
   "metadata": {},
   "outputs": [
    {
     "data": {
      "image/png": "[encoded data removed]",
      "text/plain": [
       "<Figure size 640x480 with 1 Axes>"
      ]
     },
     "metadata": {},
     "output_type": "display_data"
    }
   ],
   "source": [
    "import matplotlib.pyplot as plt\n",
    "import matplotlib.ticker\n",
    "\n",
    "x=np.array(ridge_alpha_list)\n",
    "y=np.array(ridge_alpha_acc_results)\n",
    "fig,ridgeplt=plt.subplots()\n",
    "ridgeplt.yaxis.set_major_formatter(matplotlib.ticker.FormatStrFormatter('%.2f'))\n",
    "plt.plot(x,y)\n",
    "plt.xscale('log')\n",
    "plt.xlim(1e-4,1)\n",
    "plt.ylim(min(ridge_alpha_acc_results),76)\n",
    "plt.show()"
   ]
  },
  {
   "cell_type": "markdown",
   "id": "1f4984d7-7ec7-49d5-b13c-cf94ff5cbbd3",
   "metadata": {},
   "source": [
    "从上可见R2得分会起初会随着alpha的增大逐渐上升，直到到达最优alpha值得到最大的R2得分，但接着R2得分会随着alpha的继续增大而急骤下降。"
   ]
  },
  {
   "cell_type": "markdown",
   "id": "246f54e3-5b35-41fd-a035-2255a2bda11b",
   "metadata": {},
   "source": [
    "下方训练Lasso模型（过程和Ridge模型的训练相似）："
   ]
  },
  {
   "cell_type": "markdown",
   "id": "e0d3535f-a0c3-4d23-b75c-7fd3fb990de5",
   "metadata": {},
   "source": [
    "导入模型后定义函数lasso_regression()，以便取各种alpha值进行训练，来找到最优的alpha。\n",
    "此函数每次取alpha对训练集训练完毕后，将用lasso_model.score()计算R平方得分，并把结果记录在lasso_alpha_acc_results[]中."
   ]
  },
  {
   "cell_type": "markdown",
   "id": "75d4e9f7-0b46-4858-b0b6-05bca1de5654",
   "metadata": {},
   "source": [
    "此处的Lasso模型中设置了normalize=True，即把X中的所有参数都标准化处理。经过这样的预处理，最后的R2得分一般会比较高。"
   ]
  },
  {
   "cell_type": "code",
   "execution_count": 24,
   "id": "b0720247-2877-4486-b5c8-b3ad11768954",
   "metadata": {},
   "outputs": [],
   "source": [
    "from sklearn.linear_model import Lasso"
   ]
  },
  {
   "cell_type": "code",
   "execution_count": 25,
   "id": "02be24c0-2993-4bb1-9b52-7aff6a1cae84",
   "metadata": {},
   "outputs": [],
   "source": [
    "def lasso_regression(alpha, alpha_acc_results):\n",
    "    lasso_model = Lasso(alpha=alpha,normalize=True)\n",
    "    lasso_model.fit(X_train,Y_train)\n",
    "    \n",
    "    lasso_score = lasso_model.score(X_test , Y_test)\n",
    "    lasso_alpha_acc_results.append(lasso_score*100)"
   ]
  },
  {
   "cell_type": "markdown",
   "id": "8f45386b-a420-49b6-a2f6-04c82225b047",
   "metadata": {},
   "source": [
    "生成一个记录着我们想取来训练的alpha值的list（下方使用了np.linspace()，括弧里的(1e-5,0.1,500)的意思是在[1e-5,0.1]之间生成500个等距的值），接着对list里面的所有alpha值进行训练。"
   ]
  },
  {
   "cell_type": "markdown",
   "id": "447dd32f-2fdc-4ec8-afb6-ed8e17030659",
   "metadata": {},
   "source": [
    "对所有alpha值训练完毕后，将每个alpha值和它们所对应的训练结果对应起来，接着导出最优alpha值以及其所对应的R2得分。"
   ]
  },
  {
   "cell_type": "code",
   "execution_count": 26,
   "id": "6d2b0bf2-8592-4dfe-ae5a-54af9e1bf94a",
   "metadata": {},
   "outputs": [
    {
     "name": "stdout",
     "output_type": "stream",
     "text": [
      "Lasso optimal alpha: 0.0052198997995991986 , accuracy: 74.27998177847816\n"
     ]
    }
   ],
   "source": [
    "lasso_alpha_list=np.linspace(1e-5,0.1,500)\n",
    "lasso_alpha_acc_results=[]\n",
    "for i in lasso_alpha_list:\n",
    "    lasso_regression(i, lasso_alpha_acc_results)\n",
    "lasso_results=dict(zip(lasso_alpha_list,lasso_alpha_acc_results))\n",
    "print(\"Lasso optimal alpha:\",max(lasso_results,key=lasso_results.get),\", accuracy:\",max(lasso_results.values()))"
   ]
  },
  {
   "cell_type": "markdown",
   "id": "2824d0ac-80bd-4d1d-875e-5aec6a0abe52",
   "metadata": {},
   "source": [
    "从上可知使用Lasso模型进行房价预测训练时候，alpha取0.0052198997995991986将得到最准确的房价预测结果。"
   ]
  },
  {
   "cell_type": "markdown",
   "id": "9db2fd64-85d4-4f43-a812-fcba13895702",
   "metadata": {},
   "source": [
    "和Ridge模型的训练结果相比，Ridge模型R2得分最高可达74.99740529685197，而Lasso模型最高达74.27998177847816，可见Ridge模型比Lasso模型在波士顿房价预测中更胜一筹。"
   ]
  },
  {
   "cell_type": "markdown",
   "id": "a99e0846-f54d-4f68-81e9-4812825fc268",
   "metadata": {},
   "source": [
    "对Lasso模型所训练的每个alpha值与它们对应的R2得分进行作图，可得出以下曲线："
   ]
  },
  {
   "cell_type": "code",
   "execution_count": 27,
   "id": "d64d3fc9-ed9b-45f1-96eb-4ef80dde888e",
   "metadata": {},
   "outputs": [
    {
     "data": {
      "image/png": "[encoded data removed]",
      "text/plain": [
       "<Figure size 640x480 with 1 Axes>"
      ]
     },
     "metadata": {},
     "output_type": "display_data"
    }
   ],
   "source": [
    "x=np.array(lasso_alpha_list)\n",
    "y=np.array(lasso_alpha_acc_results)\n",
    "fig,lassoplt=plt.subplots()\n",
    "lassoplt.yaxis.set_major_formatter(matplotlib.ticker.FormatStrFormatter('%.2f'))\n",
    "plt.plot(x,y)\n",
    "plt.xscale('log')\n",
    "plt.xlim(1e-5,1)\n",
    "plt.ylim(min(lasso_alpha_acc_results),75)\n",
    "plt.show()"
   ]
  },
  {
   "cell_type": "markdown",
   "id": "64439275-0ddd-4277-8bf1-b8b01b982f0f",
   "metadata": {},
   "source": [
    "和Ridge模型的作图结果类似，从上可见R2得分会起初会随着alpha的增大逐渐上升，直到到达最优alpha值得到最大的R2得分，但接着R2得分会随着alpha的继续增大而急骤下降。"
   ]
  }
 ],
 "metadata": {
  "kernelspec": {
   "display_name": "Python 3 (ipykernel)",
   "language": "python",
   "name": "python3"
  },
  "language_info": {
   "codemirror_mode": {
    "name": "ipython",
    "version": 3
   },
   "file_extension": ".py",
   "mimetype": "text/x-python",
   "name": "python",
   "nbconvert_exporter": "python",
   "pygments_lexer": "ipython3",
   "version": "3.9.18"
  }
 },
 "nbformat": 4,
 "nbformat_minor": 5
}
