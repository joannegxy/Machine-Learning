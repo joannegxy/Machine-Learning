{
 "cells": [
  {
   "cell_type": "code",
   "execution_count": 17,
   "id": "010926e9-32af-4d16-b8c4-f9471d9ce507",
   "metadata": {},
   "outputs": [],
   "source": [
    "import torch\n",
    "import torch.nn as nn\n",
    "import torch.optim as optim\n",
    "from torchvision import datasets, transforms\n",
    "from torch.utils.data import DataLoader"
   ]
  },
  {
   "cell_type": "code",
   "execution_count": 18,
   "id": "77ec7e2f-042f-4eba-a612-7cbbb2320d8c",
   "metadata": {},
   "outputs": [],
   "source": [
    "# <1> 数据集: MNIST, 归一化到[-1,1]之间\n",
    "transform = transforms.Compose([transforms.ToTensor(), transforms.Normalize((0.5,), (0.5,))]) \n",
    "train_dataset = datasets.MNIST(root='./data', train=True, download=True, transform=transform)\n",
    "test_dataset = datasets.MNIST(root='./data', train=False, download=True, transform=transform)\n",
    "\n",
    "# <2> 加载数据：分成小批次batch，打乱数据shuffle, 4个进程加载数据\n",
    "train_loader = DataLoader(train_dataset, \n",
    "                          batch_size=32, # 一次加载32个样本, 最后一个不完整时，默认保留\n",
    "                          shuffle=True, \n",
    "                          num_workers=4)  # 4个进程加载数据\n",
    "test_loader = DataLoader(test_dataset, batch_size=32, shuffle=False, num_workers=4)"
   ]
  },
  {
   "cell_type": "code",
   "execution_count": 23,
   "id": "1677c9ac-c908-42e9-b266-89ee7d1926f8",
   "metadata": {},
   "outputs": [],
   "source": [
    "# <3> 定义模型\n",
    "model = nn.Sequential(\n",
    "    nn.Conv2d(1,              # 输入通道数\n",
    "              6,              # 输出通道数\n",
    "              kernel_size=5,  # 卷积核大小，5x5y\n",
    "              stride=1,       # 步长\n",
    "              padding=2),     # 填充           权值数量为1*5*5*6+6=156\n",
    "    nn.ReLU(),\n",
    "    nn.MaxPool2d(kernel_size=2, stride=2, padding=0),     # 权值数量为0\n",
    "    nn.Conv2d(6, 16, kernel_size=5, stride=1, padding=0), # 输入通道数6，输出通道数16，卷积核大小5x5，权值数量为6*5*5*16+16=2416\n",
    "    nn.ReLU(),\n",
    "    nn.MaxPool2d(kernel_size=2, stride=2, padding=0), \n",
    "    nn.Flatten(),\n",
    "    nn.Linear(16 * 5 * 5, 84), # 全连接层，输入维度16*5*5，输出维度120，权值数量为16*5*5*120+120=48120\n",
    "    nn.ReLU(),\n",
    "    nn.Linear(84, 10)  )        # 全连接层，输入维度84，输出维度10，权值数量为10*84+10=850\n",
    "# 模型全部参数数量=156+2416+48120+10164+850=61706"
   ]
  },
  {
   "cell_type": "code",
   "execution_count": 24,
   "id": "b7b72e81-17ec-4977-b3d0-16b2ecc9acd4",
   "metadata": {},
   "outputs": [
    {
     "name": "stdout",
     "output_type": "stream",
     "text": [
      "----------------------------------------------------------------\n",
      "        Layer (type)               Output Shape         Param #\n",
      "================================================================\n",
      "            Conv2d-1            [-1, 6, 28, 28]             156\n",
      "              ReLU-2            [-1, 6, 28, 28]               0\n",
      "         MaxPool2d-3            [-1, 6, 14, 14]               0\n",
      "            Conv2d-4           [-1, 16, 10, 10]           2,416\n",
      "              ReLU-5           [-1, 16, 10, 10]               0\n",
      "         MaxPool2d-6             [-1, 16, 5, 5]               0\n",
      "           Flatten-7                  [-1, 400]               0\n",
      "            Linear-8                   [-1, 84]          33,684\n",
      "              ReLU-9                   [-1, 84]               0\n",
      "           Linear-10                   [-1, 10]             850\n",
      "================================================================\n",
      "Total params: 37,106\n",
      "Trainable params: 37,106\n",
      "Non-trainable params: 0\n",
      "----------------------------------------------------------------\n",
      "Input size (MB): 0.00\n",
      "Forward/backward pass size (MB): 0.11\n",
      "Params size (MB): 0.14\n",
      "Estimated Total Size (MB): 0.26\n",
      "----------------------------------------------------------------\n"
     ]
    }
   ],
   "source": [
    "# 显示网络结构\n",
    "\n",
    "# pip install torchsummary\n",
    "import torchsummary\n",
    "\n",
    "# 显示每一层的输出形状，参数数量，总参数数量\n",
    "torchsummary.summary(\n",
    "    model,\n",
    "    (1, 28, 28) ,  # 补充信息：输入维度(通道数，高，宽)\n",
    "    device=\"cpu\" ) # 默认为cudav"
   ]
  },
  {
   "cell_type": "code",
   "execution_count": 25,
   "id": "e90c4887-76cb-4682-9d43-8d3011f17c4c",
   "metadata": {},
   "outputs": [
    {
     "name": "stdout",
     "output_type": "stream",
     "text": [
      "Epoch 1, Loss: 2.3088912963867188\n",
      "Epoch 2, Loss: 2.323237180709839\n",
      "Epoch 3, Loss: 2.321169137954712\n",
      "Epoch 4, Loss: 2.319427728652954\n",
      "Epoch 5, Loss: 2.328122138977051\n",
      "Epoch 6, Loss: 2.3173789978027344\n",
      "Epoch 7, Loss: 2.3148155212402344\n",
      "Epoch 8, Loss: 2.304150104522705\n",
      "Epoch 9, Loss: 2.2958388328552246\n",
      "Epoch 10, Loss: 2.268920421600342\n"
     ]
    }
   ],
   "source": [
    "# <4> 损失函数、优化器\n",
    "criterion = nn.CrossEntropyLoss()\n",
    "optimizer = optim.SGD(model.parameters(), lr=0.1)\n",
    "\n",
    "# <5> 训练模型\n",
    "for epoch in range(10):\n",
    "    model.train()\n",
    "    for data, target in train_loader: \n",
    "        optimizer.zero_grad()\n",
    "        output = model(data)\n",
    "        loss = criterion(output, target)\n",
    "        loss.backward()\n",
    "        optimizer.step()\n",
    "    print(f'Epoch {epoch+1}, Loss: {loss.item()}')"
   ]
  },
  {
   "cell_type": "code",
   "execution_count": 26,
   "id": "7d68695c-4255-46c0-b749-bbeffb713b07",
   "metadata": {},
   "outputs": [
    {
     "name": "stdout",
     "output_type": "stream",
     "text": [
      "精度: 11.35%\n"
     ]
    }
   ],
   "source": [
    "# <6> 测试模型\n",
    "model.eval()\n",
    "correct = 0\n",
    "total = 0\n",
    "with torch.no_grad():\n",
    "    for data, target in test_loader:\n",
    "        output = model(data)\n",
    "        _, predicted = torch.max(output.data, 1)\n",
    "        correct += (predicted == target).sum().item()\n",
    "        total += target.size(0)\n",
    "print(f'精度: {100 * correct / total}%')"
   ]
  },
  {
   "cell_type": "code",
   "execution_count": null,
   "id": "64afa659-0ca8-46c0-9941-297e1888726f",
   "metadata": {},
   "outputs": [],
   "source": []
  },
  {
   "cell_type": "code",
   "execution_count": null,
   "id": "72ee771d-cdc4-4283-9d68-625560a05c6f",
   "metadata": {},
   "outputs": [],
   "source": []
  }
 ],
 "metadata": {
  "kernelspec": {
   "display_name": "Python 3 (ipykernel)",
   "language": "python",
   "name": "python3"
  },
  "language_info": {
   "codemirror_mode": {
    "name": "ipython",
    "version": 3
   },
   "file_extension": ".py",
   "mimetype": "text/x-python",
   "name": "python",
   "nbconvert_exporter": "python",
   "pygments_lexer": "ipython3",
   "version": "3.9.18"
  }
 },
 "nbformat": 4,
 "nbformat_minor": 5
}
